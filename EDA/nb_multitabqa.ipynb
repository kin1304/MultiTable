{
 "cells": [
  {
   "cell_type": "code",
   "id": "initial_id",
   "metadata": {
    "collapsed": true,
    "ExecuteTime": {
     "end_time": "2025-06-01T06:14:46.807861Z",
     "start_time": "2025-06-01T06:14:29.190029Z"
    }
   },
   "source": [
    "import pandas as pd\n",
    "from datasets import load_dataset\n",
    "import json"
   ],
   "outputs": [
    {
     "name": "stderr",
     "output_type": "stream",
     "text": [
      "D:\\nguyennha\\multi_table\\.venv\\Lib\\site-packages\\tqdm\\auto.py:21: TqdmWarning: IProgress not found. Please update jupyter and ipywidgets. See https://ipywidgets.readthedocs.io/en/stable/user_install.html\n",
      "  from .autonotebook import tqdm as notebook_tqdm\n"
     ]
    }
   ],
   "execution_count": 1
  },
  {
   "metadata": {
    "ExecuteTime": {
     "end_time": "2025-06-01T06:15:09.757248Z",
     "start_time": "2025-06-01T06:14:46.846871Z"
    }
   },
   "cell_type": "code",
   "source": "multitableQA_pretraining = load_dataset(\"vaishali/multitabqa_pretraining\")",
   "id": "4a815f18572076e4",
   "outputs": [],
   "execution_count": 2
  },
  {
   "metadata": {
    "ExecuteTime": {
     "end_time": "2025-06-01T06:15:19.717523Z",
     "start_time": "2025-06-01T06:15:10.438082Z"
    }
   },
   "cell_type": "code",
   "source": "spider_tableQA_pretraining = load_dataset(\"vaishali/spider-tableQA-pretraining\")",
   "id": "2a81d6beecc9cee7",
   "outputs": [],
   "execution_count": 3
  },
  {
   "metadata": {
    "ExecuteTime": {
     "end_time": "2025-06-01T06:15:19.747156Z",
     "start_time": "2025-06-01T06:15:19.739948Z"
    }
   },
   "cell_type": "code",
   "source": "print(multitableQA_pretraining.keys())",
   "id": "f0e83d95b5264ca4",
   "outputs": [
    {
     "name": "stdout",
     "output_type": "stream",
     "text": [
      "dict_keys(['train'])\n"
     ]
    }
   ],
   "execution_count": 4
  },
  {
   "metadata": {
    "ExecuteTime": {
     "end_time": "2025-06-01T06:15:19.859238Z",
     "start_time": "2025-06-01T06:15:19.854228Z"
    }
   },
   "cell_type": "code",
   "source": "multitableQA_train = multitableQA_pretraining[\"train\"]",
   "id": "a357d4918f46ec04",
   "outputs": [],
   "execution_count": 5
  },
  {
   "metadata": {
    "ExecuteTime": {
     "end_time": "2025-06-01T07:04:58.525944Z",
     "start_time": "2025-06-01T07:04:58.520807Z"
    }
   },
   "cell_type": "code",
   "source": [
    "print(multitableQA_train[0]['tables'][0][:100])\n",
    "print(multitableQA_train[0]['source'])"
   ],
   "id": "3600f701a5904d5d",
   "outputs": [
    {
     "name": "stdout",
     "output_type": "stream",
     "text": [
      "{\"columns\":[\"player_id\",\"year\",\"game_num\",\"game_id\",\"team_id\",\"league_id\",\"gp\",\"starting_pos\"],\"inde\n",
      "None\n"
     ]
    }
   ],
   "execution_count": 46
  },
  {
   "metadata": {
    "ExecuteTime": {
     "end_time": "2025-06-01T07:20:19.275593Z",
     "start_time": "2025-06-01T07:12:48.443105Z"
    }
   },
   "cell_type": "code",
   "source": [
    "i = 0\n",
    "for row in multitableQA_train:\n",
    "    if row['source'] != None:\n",
    "        i = i + 1\n",
    "        if i < 2:\n",
    "            continue\n",
    "        print(row['source'])\n",
    "        print(row['tables'])\n",
    "        print(row['target'])\n",
    "        break"
   ],
   "id": "2867c991bd020059",
   "outputs": [
    {
     "name": "stdout",
     "output_type": "stream",
     "text": [
      "SELECT Membership_card FROM member WHERE \"Time_of_purchase\" > 18 OR Address != \"Waterbury\" AND Name = \"Webb, Daniel\" OR \"Age\" != 51 EXCEPT SELECT Membership_card FROM member WHERE \"Time_of_purchase\" < 27 AND Name != \"Hayes, Steven\" AND \"Age\" >= 45 AND Membership_card = \"Black\" <table_name> : member col : Member_ID | Name | Membership_card | Age | Time_of_purchase | Level_of_membership | Address row 1 : 1 | Ashby, Lazale | Black | 29 | 18 | 5 | Hartford row 2 : 2 | Breton, Robert | White | 67 | 41 | 4 | Waterbury row 3 : 3 | Campbell, Jessie | Black | 34 | 20 | 6 | Hartford row 4 : 4 | Cobb, Sedrick | Black | 51 | 27 | 2 | Waterbury row 5 : 5 | Hayes, Steven | White | 50 | 44 | 3 | Cheshire row 6 : 6 | Komisarjevsky, Joshua | White | 33 | 26 | 2 | Cheshire row 7 : 7 | Peeler, Russell | Black | 42 | 26 | 6 | Bridgeport row 8 : 8 | Reynolds, Richard | Black | 45 | 24 | 1 | Waterbury row 9 : 9 | Rizzo, Todd | White | 35 | 18 | 4 | Waterbury row 10 : 10 | Webb, Daniel | Black | 51 | 27 | 22 | Hartford <table_name> : member col : Member_ID | Name | Membership_card | Age | Time_of_purchase | Level_of_membership | Address row 1 : 1 | Ashby, Lazale | Black | 29 | 18 | 5 | Hartford row 2 : 2 | Breton, Robert | White | 67 | 41 | 4 | Waterbury row 3 : 3 | Campbell, Jessie | Black | 34 | 20 | 6 | Hartford row 4 : 4 | Cobb, Sedrick | Black | 51 | 27 | 2 | Waterbury row 5 : 5 | Hayes, Steven | White | 50 | 44 | 3 | Cheshire row 6 : 6 | Komisarjevsky, Joshua | White | 33 | 26 | 2 | Cheshire row 7 : 7 | Peeler, Russell | Black | 42 | 26 | 6 | Bridgeport row 8 : 8 | Reynolds, Richard | Black | 45 | 24 | 1 | Waterbury row 9 : 9 | Rizzo, Todd | White | 35 | 18 | 4 | Waterbury row 10 : 10 | Webb, Daniel | Black | 51 | 27 | 22 | Hartford\n",
      "['member', 'member']\n",
      "col : Membership_card row 1 : White\n"
     ]
    }
   ],
   "execution_count": 49
  },
  {
   "metadata": {
    "ExecuteTime": {
     "end_time": "2025-06-01T06:15:19.952923Z",
     "start_time": "2025-06-01T06:15:19.947769Z"
    }
   },
   "cell_type": "code",
   "source": "print(type(multitableQA_train))",
   "id": "e4863a0421cb28e2",
   "outputs": [
    {
     "name": "stdout",
     "output_type": "stream",
     "text": [
      "<class 'datasets.arrow_dataset.Dataset'>\n"
     ]
    }
   ],
   "execution_count": 6
  },
  {
   "metadata": {
    "ExecuteTime": {
     "end_time": "2025-06-01T06:50:56.067758Z",
     "start_time": "2025-06-01T06:50:56.026178Z"
    }
   },
   "cell_type": "code",
   "source": [
    "row = multitableQA_train[0]\n",
    "print(type(row))"
   ],
   "id": "8b5577469d9e9e38",
   "outputs": [
    {
     "name": "stdout",
     "output_type": "stream",
     "text": [
      "<class 'dict'>\n"
     ]
    }
   ],
   "execution_count": 29
  },
  {
   "metadata": {
    "ExecuteTime": {
     "end_time": "2025-06-01T06:50:56.866007Z",
     "start_time": "2025-06-01T06:50:56.859942Z"
    }
   },
   "cell_type": "code",
   "source": "print(row.keys())",
   "id": "a765a91187311701",
   "outputs": [
    {
     "name": "stdout",
     "output_type": "stream",
     "text": [
      "dict_keys(['tables', 'table_names', 'query', 'answer', 'db_name', 'source', 'target'])\n"
     ]
    }
   ],
   "execution_count": 30
  },
  {
   "metadata": {
    "ExecuteTime": {
     "end_time": "2025-06-01T06:50:57.726643Z",
     "start_time": "2025-06-01T06:50:57.721648Z"
    }
   },
   "cell_type": "code",
   "source": "print(row[\"table_names\"])",
   "id": "3d750080bb7748b6",
   "outputs": [
    {
     "name": "stdout",
     "output_type": "stream",
     "text": [
      "['all_star', 'manager_award_vote']\n"
     ]
    }
   ],
   "execution_count": 31
  },
  {
   "metadata": {
    "ExecuteTime": {
     "end_time": "2025-06-01T06:51:32.375137Z",
     "start_time": "2025-06-01T06:51:32.368426Z"
    }
   },
   "cell_type": "code",
   "source": [
    "table = row['tables']\n",
    "print(type(table))"
   ],
   "id": "6c82586cdf75d1ed",
   "outputs": [
    {
     "name": "stdout",
     "output_type": "stream",
     "text": [
      "<class 'list'>\n"
     ]
    }
   ],
   "execution_count": 33
  },
  {
   "metadata": {
    "ExecuteTime": {
     "end_time": "2025-06-01T06:15:20.565831Z",
     "start_time": "2025-06-01T06:15:20.560833Z"
    }
   },
   "cell_type": "code",
   "source": "print(type(table[0]))",
   "id": "a08d9bb72ac7a1b6",
   "outputs": [
    {
     "name": "stdout",
     "output_type": "stream",
     "text": [
      "<class 'str'>\n"
     ]
    }
   ],
   "execution_count": 11
  },
  {
   "metadata": {
    "ExecuteTime": {
     "end_time": "2025-06-01T06:52:01.135058Z",
     "start_time": "2025-06-01T06:52:01.130057Z"
    }
   },
   "cell_type": "code",
   "source": [
    "print(table[0][:100])\n",
    "print(table[1][:100])"
   ],
   "id": "6e43ac928978ade6",
   "outputs": [
    {
     "name": "stdout",
     "output_type": "stream",
     "text": [
      "{\"columns\":[\"player_id\",\"year\",\"game_num\",\"game_id\",\"team_id\",\"league_id\",\"gp\",\"starting_pos\"],\"inde\n",
      "{\"columns\":[\"award_id\",\"year\",\"league_id\",\"player_id\",\"points_won\",\"points_max\",\"votes_first\"],\"inde\n"
     ]
    }
   ],
   "execution_count": 35
  },
  {
   "metadata": {
    "ExecuteTime": {
     "end_time": "2025-06-01T06:15:20.819098Z",
     "start_time": "2025-06-01T06:15:20.805771Z"
    }
   },
   "cell_type": "code",
   "source": [
    "data_dict_0 = json.loads(table[0])\n",
    "print(data_dict_0.keys())"
   ],
   "id": "9253c46cdb52ac30",
   "outputs": [
    {
     "name": "stdout",
     "output_type": "stream",
     "text": [
      "dict_keys(['columns', 'index', 'data'])\n"
     ]
    }
   ],
   "execution_count": 13
  },
  {
   "metadata": {
    "ExecuteTime": {
     "end_time": "2025-06-01T06:15:20.931414Z",
     "start_time": "2025-06-01T06:15:20.925309Z"
    }
   },
   "cell_type": "code",
   "source": [
    "data = data_dict_0['data']\n",
    "print(type(data))"
   ],
   "id": "be176b102696ac63",
   "outputs": [
    {
     "name": "stdout",
     "output_type": "stream",
     "text": [
      "<class 'list'>\n"
     ]
    }
   ],
   "execution_count": 14
  },
  {
   "metadata": {
    "ExecuteTime": {
     "end_time": "2025-06-01T06:15:21.044583Z",
     "start_time": "2025-06-01T06:15:21.037489Z"
    }
   },
   "cell_type": "code",
   "source": [
    "print(data_dict_0['columns'])\n",
    "print(\"values:\")\n",
    "print(data[:5])"
   ],
   "id": "5c72499b4175eb2d",
   "outputs": [
    {
     "name": "stdout",
     "output_type": "stream",
     "text": [
      "['player_id', 'year', 'game_num', 'game_id', 'team_id', 'league_id', 'gp', 'starting_pos']\n",
      "values:\n",
      "[['gomezle01', 1933, 0, 'ALS193307060', 'NYA', 'AL', 1, 1], ['ferreri01', 1933, 0, 'ALS193307060', 'BOS', 'AL', 1, 2], ['gehrilo01', 1933, 0, 'ALS193307060', 'NYA', 'AL', 1, 3], ['gehrich01', 1933, 0, 'ALS193307060', 'DET', 'AL', 1, 4], ['dykesji01', 1933, 0, 'ALS193307060', 'CHA', 'AL', 1, 5]]\n"
     ]
    }
   ],
   "execution_count": 15
  },
  {
   "metadata": {
    "ExecuteTime": {
     "end_time": "2025-06-01T06:15:21.248158Z",
     "start_time": "2025-06-01T06:15:21.242161Z"
    }
   },
   "cell_type": "code",
   "source": "print(table[1][:100])",
   "id": "7b38508af20343fa",
   "outputs": [
    {
     "name": "stdout",
     "output_type": "stream",
     "text": [
      "{\"columns\":[\"award_id\",\"year\",\"league_id\",\"player_id\",\"points_won\",\"points_max\",\"votes_first\"],\"inde\n"
     ]
    }
   ],
   "execution_count": 16
  },
  {
   "metadata": {
    "ExecuteTime": {
     "end_time": "2025-06-01T06:15:21.429249Z",
     "start_time": "2025-06-01T06:15:21.421156Z"
    }
   },
   "cell_type": "code",
   "source": [
    "data_dict_1 = json.loads(table[1])\n",
    "print(data_dict_1.keys())"
   ],
   "id": "5d7128c00dcded07",
   "outputs": [
    {
     "name": "stdout",
     "output_type": "stream",
     "text": [
      "dict_keys(['columns', 'index', 'data'])\n"
     ]
    }
   ],
   "execution_count": 17
  },
  {
   "metadata": {
    "ExecuteTime": {
     "end_time": "2025-06-01T06:15:21.579012Z",
     "start_time": "2025-06-01T06:15:21.573140Z"
    }
   },
   "cell_type": "code",
   "source": [
    "data1 = data_dict_1['data']\n",
    "print(type(data1))"
   ],
   "id": "aa8f8e6a35080a19",
   "outputs": [
    {
     "name": "stdout",
     "output_type": "stream",
     "text": [
      "<class 'list'>\n"
     ]
    }
   ],
   "execution_count": 18
  },
  {
   "metadata": {
    "ExecuteTime": {
     "end_time": "2025-06-01T06:15:21.710420Z",
     "start_time": "2025-06-01T06:15:21.704420Z"
    }
   },
   "cell_type": "code",
   "source": [
    "print(data_dict_1['columns'])\n",
    "print(\"values:\")\n",
    "print(data1[:5])"
   ],
   "id": "c7e52044bed481e3",
   "outputs": [
    {
     "name": "stdout",
     "output_type": "stream",
     "text": [
      "['award_id', 'year', 'league_id', 'player_id', 'points_won', 'points_max', 'votes_first']\n",
      "values:\n",
      "[['Mgr of the year', 1983, 'AL', 'altobjo01', 7, 28, 7], ['Mgr of the year', 1983, 'AL', 'coxbo01', 4, 28, 4], ['Mgr of the year', 1983, 'AL', 'larusto01', 17, 28, 17], ['Mgr of the year', 1983, 'NL', 'lasorto01', 10, 24, 10], ['Mgr of the year', 1983, 'NL', 'lillibo01', 9, 24, 9]]\n"
     ]
    }
   ],
   "execution_count": 19
  },
  {
   "metadata": {
    "ExecuteTime": {
     "end_time": "2025-06-01T06:23:35.198644Z",
     "start_time": "2025-06-01T06:15:21.825260Z"
    }
   },
   "cell_type": "code",
   "source": [
    "# Count number of table\n",
    "noTable = []\n",
    "tables_index = []\n",
    "not_tables_index = []\n",
    "i = 0\n",
    "for row in multitableQA_train:\n",
    "    if row[\"table_names\"] == None:\n",
    "        noTable.append(0)\n",
    "        not_tables_index.append(i)\n",
    "    else:\n",
    "        noTable.append(len(row[\"table_names\"]))\n",
    "        tables_index.append(i)\n",
    "    i += 1"
   ],
   "id": "86c749391a79c0ca",
   "outputs": [],
   "execution_count": 20
  },
  {
   "metadata": {
    "ExecuteTime": {
     "end_time": "2025-06-01T06:23:41.344750Z",
     "start_time": "2025-06-01T06:23:41.027070Z"
    }
   },
   "cell_type": "code",
   "source": [
    "noTable = pd.Series(noTable)\n",
    "print(noTable.value_counts())"
   ],
   "id": "9fcf0c3909191564",
   "outputs": [
    {
     "name": "stdout",
     "output_type": "stream",
     "text": [
      "0    105978\n",
      "2     26667\n",
      "Name: count, dtype: int64\n"
     ]
    }
   ],
   "execution_count": 21
  },
  {
   "metadata": {
    "ExecuteTime": {
     "end_time": "2025-06-01T06:23:41.631047Z",
     "start_time": "2025-06-01T06:23:41.607601Z"
    }
   },
   "cell_type": "code",
   "source": [
    "array = [132609, 132609, 132611, 132612, 132632]\n",
    "print(multitableQA_train[array[0]])"
   ],
   "id": "e5e32ae2a057c4dc",
   "outputs": [
    {
     "name": "stdout",
     "output_type": "stream",
     "text": [
      "{'tables': None, 'table_names': None, 'query': None, 'answer': None, 'db_name': None, 'source': 'select t1.mid, t2.mid from movie as t1 join rating as t2 on t1.mid == t2.mid group by year having title != \"titanic\" and ratingdate = \"2011-01-22\" or rid < 205 and stars > 2 <table_name> : movie col : mid | title | year | director row 1 : 101 | gone with the wind | 1939 | victor fleming row 2 : 102 | star wars | 1977 | george lucas row 3 : 103 | the sound of music | 1965 | robert wise row 4 : 104 | e.t. | 1982 | steven spielberg row 5 : 105 | titanic | 1997 | james cameron row 6 : 106 | snow white | 1937 |  row 7 : 107 | avatar | 2009 | james cameron row 8 : 108 | raiders of the lost ark | 1981 | steven spielberg <table_name> : rating col : rid | mid | stars | ratingdate row 1 : 201 | 101 | 2 | 2011-01-22 row 2 : 201 | 101 | 4 | 2011-01-27 row 3 : 202 | 106 | 4 |  row 4 : 203 | 103 | 2 | 2011-01-20 row 5 : 203 | 108 | 4 | 2011-01-12 row 6 : 203 | 108 | 2 | 2011-01-30 row 7 : 204 | 101 | 3 | 2011-01-09 row 8 : 205 | 103 | 3 | 2011-01-27 row 9 : 205 | 104 | 2 | 2011-01-22 row 10 : 205 | 108 | 4 |  row 11 : 206 | 107 | 3 | 2011-01-15 row 12 : 206 | 106 | 5 | 2011-01-19 row 13 : 207 | 107 | 5 | 2011-01-20 row 14 : 208 | 104 | 3 | 2011-01-02', 'target': 'col : mid -1 | mid -2 row 1 : 106 | 106 row 2 : 101 | 101 row 3 : 108 | 108 row 4 : 104 | 104'}\n"
     ]
    }
   ],
   "execution_count": 22
  },
  {
   "metadata": {
    "ExecuteTime": {
     "end_time": "2025-06-01T06:23:42.194448Z",
     "start_time": "2025-06-01T06:23:42.179867Z"
    }
   },
   "cell_type": "code",
   "source": "print(multitableQA_train[array[1]])",
   "id": "91191f598f9eb7a0",
   "outputs": [
    {
     "name": "stdout",
     "output_type": "stream",
     "text": [
      "{'tables': None, 'table_names': None, 'query': None, 'answer': None, 'db_name': None, 'source': 'select t1.mid, t2.mid from movie as t1 join rating as t2 on t1.mid == t2.mid group by year having title != \"titanic\" and ratingdate = \"2011-01-22\" or rid < 205 and stars > 2 <table_name> : movie col : mid | title | year | director row 1 : 101 | gone with the wind | 1939 | victor fleming row 2 : 102 | star wars | 1977 | george lucas row 3 : 103 | the sound of music | 1965 | robert wise row 4 : 104 | e.t. | 1982 | steven spielberg row 5 : 105 | titanic | 1997 | james cameron row 6 : 106 | snow white | 1937 |  row 7 : 107 | avatar | 2009 | james cameron row 8 : 108 | raiders of the lost ark | 1981 | steven spielberg <table_name> : rating col : rid | mid | stars | ratingdate row 1 : 201 | 101 | 2 | 2011-01-22 row 2 : 201 | 101 | 4 | 2011-01-27 row 3 : 202 | 106 | 4 |  row 4 : 203 | 103 | 2 | 2011-01-20 row 5 : 203 | 108 | 4 | 2011-01-12 row 6 : 203 | 108 | 2 | 2011-01-30 row 7 : 204 | 101 | 3 | 2011-01-09 row 8 : 205 | 103 | 3 | 2011-01-27 row 9 : 205 | 104 | 2 | 2011-01-22 row 10 : 205 | 108 | 4 |  row 11 : 206 | 107 | 3 | 2011-01-15 row 12 : 206 | 106 | 5 | 2011-01-19 row 13 : 207 | 107 | 5 | 2011-01-20 row 14 : 208 | 104 | 3 | 2011-01-02', 'target': 'col : mid -1 | mid -2 row 1 : 106 | 106 row 2 : 101 | 101 row 3 : 108 | 108 row 4 : 104 | 104'}\n"
     ]
    }
   ],
   "execution_count": 23
  },
  {
   "metadata": {
    "ExecuteTime": {
     "end_time": "2025-06-01T06:23:42.461388Z",
     "start_time": "2025-06-01T06:23:42.450349Z"
    }
   },
   "cell_type": "code",
   "source": [
    "for a in array:\n",
    "    print(multitableQA_train[a] == multitableQA_train[array[0]])"
   ],
   "id": "bce2ce84d2ff8640",
   "outputs": [
    {
     "name": "stdout",
     "output_type": "stream",
     "text": [
      "True\n",
      "True\n",
      "False\n",
      "False\n",
      "False\n"
     ]
    }
   ],
   "execution_count": 24
  },
  {
   "metadata": {
    "ExecuteTime": {
     "end_time": "2025-06-01T06:23:42.632406Z",
     "start_time": "2025-06-01T06:23:42.624829Z"
    }
   },
   "cell_type": "code",
   "source": "print(multitableQA_train[array[3]])",
   "id": "47f8eae2ddb81a49",
   "outputs": [
    {
     "name": "stdout",
     "output_type": "stream",
     "text": [
      "{'tables': None, 'table_names': None, 'query': None, 'answer': None, 'db_name': None, 'source': \"select max(t1.station_id), t2.time from station as t1 join train as t2 on t1.name = t2.name <table_name> : station col : station_id | name | annual_entry_exit | annual_interchanges | total_passengers | location | main_services | number_of_platforms row 1 : 1 | london waterloo | 94.046 | 9.489 | 103.534 | london | south western main line west of england main line | 19 row 2 : 2 | london victoria | 76.231 | 9.157 | 85.38 | london | brighton main line chatham main line | 19 row 3 : 3 | london bridge | 52.634 | 8.742 | 61.376 | london | south eastern main line thameslink | 12 row 4 : 4 | london liverpool street | 57.107 | 2.353 | 59.46 | london | great eastern main line west anglia main line | 18 row 5 : 5 | london euston | 36.609 | 3.832 | 40.44 | london | west coast main line | 18 row 6 : 6 | london charing cross | 38.005 | 1.99 | 39.995 | london | south eastern main line | 6 row 7 : 7 | birmingham new street | 31.214 | 5.118 | 36.331 | birmingham | west coast main line cross country route | 13 row 8 : 8 | london king's cross | 27.875 | 3.022 | 30.896 | london | east coast main line | 12 row 9 : 9 | glasgow central | 26.639 | 3.018 | 29.658 | glasgow | west coast main line | 17 row 10 : 10 | east croydon | 20.551 | 6.341 | 26.892 | london | brighton main line | 6 row 11 : 11 | london st pancras | 22.996 | 3.676 | 26.672 | london | midland main line thameslink high-speed 1 eurostar | 15 row 12 : 12 | stratford | 21.797 | 2.064 | 23.862 | london | great eastern main line lea valley lines | 15 <table_name> : train col : train_id | name | time | service row 1 : 1 | ananthapuri express | 17:15 | daily row 2 : 2 | guruvayur express | 22:10 | daily row 3 : 3 | guruvayur express | 4:49 | daily row 4 : 4 | ananthapuri express | 11:35 | daily row 5 : 5 | jayanthi janatha express | 06:30 | daily row 6 : 6 | island express | 11:15 | daily row 7 : 7 | madurai fast passenger | 21:49 | daily row 8 : 8 | quilon fast passenger | 04:55 | daily row 9 : 9 | island express | 16:59 | daily row 10 : 10 | jayanthi janatha express | 10:38 | daily row 11 : 11 | parasuram express | 04:20 | daily\", 'target': 'col : max(t1.station_id) | time row 1 : nan | nan'}\n"
     ]
    }
   ],
   "execution_count": 25
  },
  {
   "metadata": {
    "ExecuteTime": {
     "end_time": "2025-06-01T06:23:42.804871Z",
     "start_time": "2025-06-01T06:23:42.797857Z"
    }
   },
   "cell_type": "code",
   "source": [
    "# length raw\n",
    "print(len(multitableQA_train))"
   ],
   "id": "582058cc2a459141",
   "outputs": [
    {
     "name": "stdout",
     "output_type": "stream",
     "text": [
      "132645\n"
     ]
    }
   ],
   "execution_count": 26
  },
  {
   "metadata": {
    "ExecuteTime": {
     "end_time": "2025-06-01T06:52:53.050375Z",
     "start_time": "2025-06-01T06:52:53.034422Z"
    }
   },
   "cell_type": "code",
   "source": [
    "# 'tables', 'table_names', 'query', 'answer', 'db_name'\n",
    "flag = True\n",
    "for index in not_tables_index:\n",
    "    row = multitableQA_train[index]\n",
    "    if row[\"table_names\"] == None and row[\"tables\"] == None and row[\"query\"] == None and row[\"answer\"] == None and row[\"answer\"] == None:\n",
    "        continue\n",
    "    else:\n",
    "        print(row)\n",
    "        print(\"False\")\n",
    "        break\n"
   ],
   "id": "90436179909ceb0e",
   "outputs": [
    {
     "name": "stdout",
     "output_type": "stream",
     "text": [
      "{'tables': ['member', 'member'], 'table_names': None, 'query': None, 'answer': '{\"columns\":[\"Age\"],\"index\":[0],\"data\":[[34]]}', 'db_name': 'coffee_shop', 'source': 'SELECT Age FROM member WHERE \"Level_of_membership\" >= 4 EXCEPT SELECT Age FROM member WHERE \"Age\" <= 51 AND \"Level_of_membership\" = 1 AND Membership_card != \"White\" OR Name != \"Campbell, Jessie\" <table_name> : member col : Member_ID | Name | Membership_card | Age | Time_of_purchase | Level_of_membership | Address row 1 : 1 | Ashby, Lazale | Black | 29 | 18 | 5 | Hartford row 2 : 2 | Breton, Robert | White | 67 | 41 | 4 | Waterbury row 3 : 3 | Campbell, Jessie | Black | 34 | 20 | 6 | Hartford row 4 : 4 | Cobb, Sedrick | Black | 51 | 27 | 2 | Waterbury row 5 : 5 | Hayes, Steven | White | 50 | 44 | 3 | Cheshire row 6 : 6 | Komisarjevsky, Joshua | White | 33 | 26 | 2 | Cheshire row 7 : 7 | Peeler, Russell | Black | 42 | 26 | 6 | Bridgeport row 8 : 8 | Reynolds, Richard | Black | 45 | 24 | 1 | Waterbury row 9 : 9 | Rizzo, Todd | White | 35 | 18 | 4 | Waterbury row 10 : 10 | Webb, Daniel | Black | 51 | 27 | 22 | Hartford <table_name> : member col : Member_ID | Name | Membership_card | Age | Time_of_purchase | Level_of_membership | Address row 1 : 1 | Ashby, Lazale | Black | 29 | 18 | 5 | Hartford row 2 : 2 | Breton, Robert | White | 67 | 41 | 4 | Waterbury row 3 : 3 | Campbell, Jessie | Black | 34 | 20 | 6 | Hartford row 4 : 4 | Cobb, Sedrick | Black | 51 | 27 | 2 | Waterbury row 5 : 5 | Hayes, Steven | White | 50 | 44 | 3 | Cheshire row 6 : 6 | Komisarjevsky, Joshua | White | 33 | 26 | 2 | Cheshire row 7 : 7 | Peeler, Russell | Black | 42 | 26 | 6 | Bridgeport row 8 : 8 | Reynolds, Richard | Black | 45 | 24 | 1 | Waterbury row 9 : 9 | Rizzo, Todd | White | 35 | 18 | 4 | Waterbury row 10 : 10 | Webb, Daniel | Black | 51 | 27 | 22 | Hartford', 'target': 'col : Age row 1 : 34'}\n",
      "False\n"
     ]
    }
   ],
   "execution_count": 36
  },
  {
   "metadata": {
    "ExecuteTime": {
     "end_time": "2025-06-01T06:23:43.139833Z",
     "start_time": "2025-06-01T06:23:43.135006Z"
    }
   },
   "cell_type": "code",
   "source": "",
   "id": "855ec2e3ed8094e4",
   "outputs": [],
   "execution_count": null
  }
 ],
 "metadata": {
  "kernelspec": {
   "display_name": "Python 3",
   "language": "python",
   "name": "python3"
  },
  "language_info": {
   "codemirror_mode": {
    "name": "ipython",
    "version": 2
   },
   "file_extension": ".py",
   "mimetype": "text/x-python",
   "name": "python",
   "nbconvert_exporter": "python",
   "pygments_lexer": "ipython2",
   "version": "2.7.6"
  }
 },
 "nbformat": 4,
 "nbformat_minor": 5
}
